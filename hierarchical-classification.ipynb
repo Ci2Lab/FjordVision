{
 "cells": [
  {
   "cell_type": "markdown",
   "metadata": {},
   "source": [
    "# Data Visualization"
   ]
  },
  {
   "cell_type": "markdown",
   "metadata": {},
   "source": [
    "## Libraries"
   ]
  },
  {
   "cell_type": "code",
   "execution_count": 15,
   "metadata": {},
   "outputs": [],
   "source": [
    "import pandas as pd\n",
    "import matplotlib.pyplot as plt\n",
    "import matplotlib.patches as patches\n",
    "from PIL import Image\n",
    "import random\n",
    "import json"
   ]
  },
  {
   "cell_type": "markdown",
   "metadata": {},
   "source": [
    "# Taxon Class"
   ]
  },
  {
   "cell_type": "code",
   "execution_count": 24,
   "metadata": {},
   "outputs": [],
   "source": [
    "class Taxon:\n",
    "    def __init__(self, name):\n",
    "        self.name = name\n",
    "        self.parent = None\n",
    "        self.children = []\n",
    "\n",
    "    def set_parent(self, parent):\n",
    "        self.parent = parent\n",
    "        parent.add_child(self)\n",
    "\n",
    "    def add_child(self, child):\n",
    "        self.children.append(child)\n",
    "\n",
    "class Species(Taxon):\n",
    "    pass\n",
    "\n",
    "class Genus(Taxon):\n",
    "    pass\n",
    "\n",
    "class Class(Taxon):\n",
    "    pass\n",
    "\n",
    "class Binary(Taxon):\n",
    "    pass\n",
    "\n",
    "class Object(Taxon):\n",
    "    pass\n",
    "\n",
    "class TaxonomyManager:\n",
    "    def __init__(self):\n",
    "        self.species = {}\n",
    "        self.genera = {}\n",
    "        self.classes = {}\n",
    "        self.binaries = {}\n",
    "        self.objects = {}\n",
    "\n",
    "    def add_taxon(self, taxon, name, parent=None):\n",
    "        if isinstance(taxon, Species):\n",
    "            self.species[name] = taxon\n",
    "        elif isinstance(taxon, Genus):\n",
    "            self.genera[name] = taxon\n",
    "        elif isinstance(taxon, Class):\n",
    "            self.classes[name] = taxon\n",
    "        elif isinstance(taxon, Binary):\n",
    "            self.binaries[name] = taxon\n",
    "        elif isinstance(taxon, Object):\n",
    "            self.objects[name] = taxon\n",
    "        if parent:\n",
    "            taxon.set_parent(parent)\n",
    "\n",
    "    def get_species(self, name):\n",
    "        return self.species.get(name)\n",
    "\n",
    "    def get_genus(self, name):\n",
    "        return self.genera.get(name)\n",
    "\n",
    "    def get_class(self, name):\n",
    "        return self.classes.get(name)\n",
    "\n",
    "    def get_binary(self, name):\n",
    "        return self.binaries.get(name)\n",
    "\n",
    "    def get_object(self, name):\n",
    "        return self.objects.get(name)\n"
   ]
  },
  {
   "cell_type": "markdown",
   "metadata": {},
   "source": [
    "# Populate Ontology"
   ]
  },
  {
   "cell_type": "code",
   "execution_count": 25,
   "metadata": {},
   "outputs": [],
   "source": [
    "taxonomy = TaxonomyManager()\n",
    "\n",
    "# Populate Objects\n",
    "object_names = [\"marine life\", \"inanimate\"]\n",
    "for name in object_names:\n",
    "    taxonomy.add_taxon(Object(name), name)\n",
    "\n",
    "# Populate Binaries\n",
    "binary_mapping = {\n",
    "    \"asteroidea\": \"marine life\",\n",
    "    \"phaeophyceae\": \"marine life\",\n",
    "    \"bivalia\": \"marine life\",\n",
    "    \"myxini\": \"marine life\",\n",
    "    \"artificial\": \"inanimate\",\n",
    "    \"natural\": \"inanimate\",\n",
    "    \"chlorophyta\": \"marine life\",\n",
    "    \"monocots\": \"marine life\"\n",
    "}\n",
    "for class_name, binary_name in binary_mapping.items():\n",
    "    binary = taxonomy.get_object(binary_name)\n",
    "    taxonomy.add_taxon(Class(class_name), class_name, binary)\n",
    "\n",
    "# Populate Classes\n",
    "class_mapping = {\n",
    "    \"asterias\" : \"asteroidea\",\n",
    "    \"fucus\" : \"phaeophyceae\",\n",
    "    \"henrica\" : \"asteroidea\",\n",
    "    \"mya\": \"bivalia\",\n",
    "    \"myxine\": \"myxini\",\n",
    "    \"cylindrical\": \"artificial\",\n",
    "    \"solid\": \"natural\",\n",
    "    \"arboral\": \"natural\",\n",
    "    \"saccharina\": \"phaeophyceae\",\n",
    "    \"ulva\": \"chlorophyta\",\n",
    "    \"urospora\": \"chlorophyta\",\n",
    "    \"zostera\": \"monocots\"\n",
    "}\n",
    "for genus_name, class_name in class_mapping.items():\n",
    "    class_ = taxonomy.get_class(class_name)\n",
    "    taxonomy.add_taxon(Genus(genus_name), genus_name, class_)\n",
    "\n",
    "# Populate Genera\n",
    "genus_mapping = {\n",
    "    \"asterias rubens\": \"asterias\",\n",
    "    \"asteroidea\": \"asterias\",\n",
    "    \"fucus vesiculosus\": \"fucus\",\n",
    "    \"henrica\": \"henrica\",\n",
    "    \"mytilus edulis\": \"mya\",\n",
    "    \"myxine glurinosa\": \"myxine\",\n",
    "    \"pipe\": \"cylindrical\",\n",
    "    \"rock\": \"solid\",\n",
    "    \"saccharina latissima\": \"saccharina\",\n",
    "    \"tree\": \"arboral\",\n",
    "    \"ulva intestinalis\": \"ulva\",\n",
    "    \"urospora\": \"urospora\",\n",
    "    \"zostera marina\": \"zostera\"\n",
    "}\n",
    "for species_name, genus_name in genus_mapping.items():\n",
    "    genus = taxonomy.get_genus(genus_name)\n",
    "    taxonomy.add_taxon(Species(species_name), species_name, genus)"
   ]
  },
  {
   "cell_type": "code",
   "execution_count": 23,
   "metadata": {},
   "outputs": [
    {
     "name": "stdout",
     "output_type": "stream",
     "text": [
      "Species: ulva intestinalis\n",
      "Genus: ulva\n",
      "Class: chlorophyta\n",
      "Binary Category: marine life\n"
     ]
    }
   ],
   "source": [
    "# Get a species\n",
    "asterias_rubens = taxonomy.get_species(\"ulva intestinalis\")\n",
    "print(\"Species:\", asterias_rubens.name)\n",
    "\n",
    "# Get the genus of a species\n",
    "asterias_genus = asterias_rubens.parent\n",
    "print(\"Genus:\", asterias_genus.name)\n",
    "\n",
    "# Get the class of a genus\n",
    "asteroidea_class = asterias_genus.parent\n",
    "print(\"Class:\", asteroidea_class.name)\n",
    "\n",
    "# Get the binary category of a class\n",
    "marine_life_binary = asteroidea_class.parent\n",
    "print(\"Binary Category:\", marine_life_binary.name)"
   ]
  },
  {
   "cell_type": "code",
   "execution_count": 26,
   "metadata": {},
   "outputs": [],
   "source": [
    "threshold = 0.75"
   ]
  },
  {
   "cell_type": "code",
   "execution_count": 28,
   "metadata": {},
   "outputs": [
    {
     "name": "stdout",
     "output_type": "stream",
     "text": [
      "No se encontró ningún item con image_id igual a '80_20220907 (4008).JPG'.\n"
     ]
    }
   ],
   "source": [
    "# Image ID\n",
    "target_image_id = \"80_20220907 (4008).JPG\" #\"79_20220701 (284).JPG\"\n",
    "\n",
    "def classify_species_family(item, species_threshold=0.75):\n",
    "    max_activation = max(item['activations'])\n",
    "    max_species_index = item['activations'].index(max_activation)\n",
    "    max_species = species_mapping[max_species_index]\n",
    "    \n",
    "    if max_activation < species_threshold:\n",
    "        family = family_mapping[max_species]\n",
    "        if family != \"\":\n",
    "            max_species = family\n",
    "    \n",
    "    return max_species\n",
    "\n",
    "# Buscar el item con el image_id objetivo\n",
    "target_item = None\n",
    "for item in predictions:\n",
    "    if item['image_id'] == target_image_id:\n",
    "        target_item = item\n",
    "        break\n",
    "\n",
    "if target_item is not None:\n",
    "    final_classification = classify_species_family(target_item)\n",
    "    \n",
    "    original_classification = species_mapping[target_item['activations'].index(max(target_item['activations']))]\n",
    "    \n",
    "    if final_classification != original_classification:\n",
    "        final_classification = f\"{final_classification} ({original_classification})\"\n",
    "    \n",
    "    print(\"Clasificación final:\", final_classification)\n",
    "else:\n",
    "    print(f\"No se encontró ningún item con image_id igual a '{target_image_id}'.\")"
   ]
  },
  {
   "cell_type": "code",
   "execution_count": 29,
   "metadata": {},
   "outputs": [],
   "source": [
    "# Process each prediction and update the category_id and original_category_id\n",
    "for prediction in predictions:\n",
    "\n",
    "    class_found = False\n",
    "    \n",
    "    species_index = prediction['category_id']\n",
    "    species_name = species_mapping.get(species_index)\n",
    "\n",
    "    original_score = max(prediction['activations'])\n",
    "\n",
    "    if species_name is not None:\n",
    "        # Determine if the species should be updated based on activation threshold\n",
    "        if original_score < threshold:\n",
    "            family_name = family_mapping.get(species_name)\n",
    "\n",
    "            if family_name:\n",
    "                family_species_names = get_species_names_from_family_names(family_name)\n",
    "                # Calculate upper category score\n",
    "                family_score = 0\n",
    "                for family_specie_name in family_species_names:\n",
    "                    family_specie_id = get_specie_id_from_specie_name(family_specie_name)\n",
    "                    family_score += prediction['activations'][family_specie_id]\n",
    "                \n",
    "                family_index = get_family_id_from_family_name(family_name)\n",
    "                \n",
    "                if family_score >= threshold:\n",
    "                    class_found = True\n",
    "                    # Update category_id and original_category_id\n",
    "                    prediction['original_category_id'] = species_index\n",
    "                    prediction['category_id'] = family_index\n",
    "                    prediction['original_score'] = original_score\n",
    "                    prediction['score'] = family_score\n",
    "            \n",
    "            if not class_found:\n",
    "                # if there is an upper category\n",
    "                prediction['original_category_id'] = species_index\n",
    "                prediction['category_id'] = 1000 # animal idx\n",
    "                prediction['original_score'] = original_score\n",
    "                prediction['score'] = 1"
   ]
  },
  {
   "cell_type": "code",
   "execution_count": 30,
   "metadata": {},
   "outputs": [],
   "source": [
    "# Save the modified predictions to a new JSON file\n",
    "with open(new_predictions_file, 'w') as f:\n",
    "    json.dump(predictions, f, indent=4)"
   ]
  }
 ],
 "metadata": {
  "kernelspec": {
   "display_name": "otherstuffystuff",
   "language": "python",
   "name": "python3"
  },
  "language_info": {
   "codemirror_mode": {
    "name": "ipython",
    "version": 3
   },
   "file_extension": ".py",
   "mimetype": "text/x-python",
   "name": "python",
   "nbconvert_exporter": "python",
   "pygments_lexer": "ipython3",
   "version": "3.10.12"
  },
  "orig_nbformat": 4
 },
 "nbformat": 4,
 "nbformat_minor": 2
}

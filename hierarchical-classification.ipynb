{
 "cells": [
  {
   "cell_type": "markdown",
   "metadata": {},
   "source": [
    "# Libraries"
   ]
  },
  {
   "cell_type": "code",
   "execution_count": null,
   "metadata": {},
   "outputs": [],
   "source": [
    "from ultralytics import YOLO\n",
    "import matplotlib.pyplot as plt\n",
    "import random\n",
    "import os\n",
    "import pandas as pd\n",
    "from anytree import Node, find_by_attr\n",
    "from preprocessing import apply_mask_to_detected_object, \\\n",
    "    find_best_ground_truth_match, get_taxonomy_hierarchy"
   ]
  },
  {
   "cell_type": "markdown",
   "metadata": {},
   "source": [
    "# Populate Taxonomy"
   ]
  },
  {
   "cell_type": "code",
   "execution_count": null,
   "metadata": {},
   "outputs": [],
   "source": [
    "from anytree import Node\n",
    "\n",
    "root = Node(\"object\", rank=\"root\")\n",
    "\n",
    "# Create root nodes\n",
    "marine_life = Node(\"marine life\", parent=root, rank=\"binary\")\n",
    "inanimate = Node(\"inanimate\", parent=root, rank=\"binary\")\n",
    "\n",
    "# Create class nodes under the respective root nodes\n",
    "asteroidea = Node(\"asteroidea\", parent=marine_life, rank=\"class\")\n",
    "phaeophyceae = Node(\"phaeophyceae\", parent=marine_life, rank=\"class\")\n",
    "bivalia = Node(\"bivalia\", parent=marine_life, rank=\"class\")\n",
    "myxini = Node(\"myxini\", parent=marine_life, rank=\"class\")\n",
    "artificial = Node(\"artificial\", parent=inanimate, rank=\"class\")\n",
    "natural = Node(\"natural\", parent=inanimate, rank=\"class\")\n",
    "chlorophyta = Node(\"chlorophyta\", parent=marine_life, rank=\"class\")\n",
    "monocots = Node(\"monocots\", parent=marine_life, rank=\"class\")\n",
    "\n",
    "# Create genus nodes under the respective class nodes\n",
    "asterias = Node(\"asterias\", parent=asteroidea, rank=\"genus\")\n",
    "fucus = Node(\"fucus\", parent=phaeophyceae, rank=\"genus\")\n",
    "henrica = Node(\"Henrica\", parent=asteroidea, rank=\"genus\")\n",
    "mya = Node(\"mya\", parent=bivalia, rank=\"genus\")\n",
    "myxine = Node(\"myxine\", parent=myxini, rank=\"genus\")\n",
    "cylindrical = Node(\"cylindrical\", parent=artificial, rank=\"genus\")\n",
    "solid = Node(\"solid\", parent=natural, rank=\"genus\")\n",
    "arboral = Node(\"arboral\", parent=natural, rank=\"genus\")\n",
    "saccharina = Node(\"saccharina\", parent=phaeophyceae, rank=\"genus\")\n",
    "ulva = Node(\"ulva\", parent=chlorophyta, rank=\"genus\")\n",
    "urospora = Node(\"Urospora\", parent=chlorophyta, rank=\"genus\")\n",
    "zostera = Node(\"zostera\", parent=monocots, rank=\"genus\")\n",
    "\n",
    "# Create species nodes under the respective genus nodes\n",
    "asterias_rubens = Node(\"asterias rubens\", parent=asterias, rank=\"species\")\n",
    "fucus_vesiculosus = Node(\"fucus vesiculosus\", parent=fucus, rank=\"species\")\n",
    "henrica_species = Node(\"henrica\", parent=henrica, rank=\"species\")  # Assuming \"henrica\" is a species\n",
    "mytilus_edulis = Node(\"mytilus edulis\", parent=mya, rank=\"species\")\n",
    "myxine_glurinosa = Node(\"myxine glurinosa\", parent=myxine, rank=\"species\")\n",
    "pipe = Node(\"pipe\", parent=cylindrical, rank=\"species\")\n",
    "rock = Node(\"rock\", parent=solid, rank=\"species\")\n",
    "saccharina_latissima = Node(\"saccharina latissima\", parent=saccharina, rank=\"species\")\n",
    "tree = Node(\"tree\", parent=arboral, rank=\"species\")\n",
    "ulva_intestinalis = Node(\"ulva intestinalis\", parent=ulva, rank=\"species\")\n",
    "urospora_species = Node(\"urospora\", parent=urospora, rank=\"species\")\n",
    "zostera_marina = Node(\"zostera marina\", parent=zostera, rank=\"species\")"
   ]
  },
  {
   "cell_type": "markdown",
   "metadata": {},
   "source": [
    "# Extract Prediction from Yolo v8"
   ]
  },
  {
   "cell_type": "code",
   "execution_count": null,
   "metadata": {},
   "outputs": [],
   "source": [
    "# Set the random seed for reproducibility\n",
    "random.seed(13384)\n",
    "\n",
    "# Path to the image directory and model weights\n",
    "IMGDIR_PATH = \"/mnt/RAID/datasets/label-studio/fjord/images/\"\n",
    "MODEL_PATH = \"runs/segment/Yolov8n-seg-train/weights/best.pt\"\n",
    "classes_file = '/mnt/RAID/datasets/label-studio/fjord/classes.txt'\n",
    "\n",
    "# Create a mapping from class indices to class names\n",
    "class_index_to_name = {}\n",
    "with open(classes_file, 'r') as file:\n",
    "    for index, line in enumerate(file):\n",
    "        class_name = line.strip()\n",
    "        class_index_to_name[index] = class_name\n",
    "\n",
    "# Load the YOLO model\n",
    "model = YOLO(MODEL_PATH)\n",
    "\n",
    "# Number of images to process in a batch\n",
    "N = 100  # Adjust this number as needed\n",
    "\n",
    "# Randomly select N images from the directory\n",
    "image_files = random.sample(os.listdir(IMGDIR_PATH), N)\n",
    "image_paths = [os.path.join(IMGDIR_PATH, img) for img in image_files if img.lower().endswith(('.png', '.jpg', '.jpeg'))]\n",
    "\n",
    "# Ensure that we have N images, reduce if the directory has fewer images\n",
    "image_paths = image_paths[:min(N, len(image_paths))]\n",
    "\n",
    "# Run the model on the batch of images\n",
    "# Note: Depending on how YOLOv8 handles batch processing, you might need to adjust this part\n",
    "results = model(image_paths, stream=True)"
   ]
  },
  {
   "cell_type": "markdown",
   "metadata": {},
   "source": [
    "# Create Dataset"
   ]
  },
  {
   "cell_type": "code",
   "execution_count": null,
   "metadata": {},
   "outputs": [],
   "source": [
    "data = []\n",
    "\n",
    "for result in results:\n",
    "    orig_img = result.orig_img\n",
    "    img_shape = orig_img.shape\n",
    "\n",
    "    if result.boxes is not None and result.masks is not None:\n",
    "        for box, mask in zip(result.boxes, result.masks):\n",
    "            masked_img = apply_mask_to_detected_object(orig_img, box, mask)\n",
    "            conf = box.conf\n",
    "            pred = box.cls\n",
    "\n",
    "            # Convert predicted mask to xyn format and find the best match\n",
    "            predicted_mask_xyn = mask.xyn[0]\n",
    "            best_class, best_iou = find_best_ground_truth_match(result, predicted_mask_xyn, img_shape)\n",
    "\n",
    "            # Handle the case when best_class is None\n",
    "            if best_class is not None:\n",
    "                species_name = class_index_to_name[best_class]\n",
    "                taxon_node = find_by_attr(root, species_name)\n",
    "            else:\n",
    "                species_name = \"Unknown\"\n",
    "                taxon_node = None\n",
    "\n",
    "            # Store relevant data\n",
    "            entry = {\n",
    "                'masked_image': masked_img,\n",
    "                'confidence': conf.item(),\n",
    "                'iou_with_best_gt': best_iou,\n",
    "                'predicted_species': class_index_to_name[int(pred.item())],\n",
    "                'species': species_name\n",
    "            }\n",
    "\n",
    "            # Add taxonomy hierarchy to the entry\n",
    "            if taxon_node:\n",
    "                for ancestor in reversed(taxon_node.path):\n",
    "                    entry[ancestor.rank] = ancestor.name\n",
    "\n",
    "            data.append(entry)\n",
    "    else:\n",
    "        print(\"No detections in this image.\")"
   ]
  },
  {
   "cell_type": "code",
   "execution_count": null,
   "metadata": {},
   "outputs": [],
   "source": [
    "plt.imshow(data[0]['masked_image'])"
   ]
  },
  {
   "cell_type": "code",
   "execution_count": null,
   "metadata": {},
   "outputs": [],
   "source": [
    "df = pd.DataFrame(data)"
   ]
  },
  {
   "cell_type": "code",
   "execution_count": null,
   "metadata": {},
   "outputs": [],
   "source": [
    "df"
   ]
  }
 ],
 "metadata": {
  "kernelspec": {
   "display_name": "otherstuffystuff",
   "language": "python",
   "name": "python3"
  },
  "language_info": {
   "codemirror_mode": {
    "name": "ipython",
    "version": 3
   },
   "file_extension": ".py",
   "mimetype": "text/x-python",
   "name": "python",
   "nbconvert_exporter": "python",
   "pygments_lexer": "ipython3",
   "version": "3.10.12"
  },
  "orig_nbformat": 4
 },
 "nbformat": 4,
 "nbformat_minor": 2
}

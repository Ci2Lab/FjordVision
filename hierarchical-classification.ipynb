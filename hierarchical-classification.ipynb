{
 "cells": [
  {
   "cell_type": "markdown",
   "metadata": {},
   "source": [
    "# Data Visualization"
   ]
  },
  {
   "cell_type": "markdown",
   "metadata": {},
   "source": [
    "## Libraries"
   ]
  },
  {
   "cell_type": "code",
   "execution_count": 1,
   "metadata": {},
   "outputs": [],
   "source": [
    "from preprocessing import load_and_prepare_model, temperature_scaled_softmax\n",
    "import random\n",
    "import os\n",
    "import torch\n",
    "from ultralytics.utils import ops\n",
    "import numpy as np\n",
    "from ultralytics.utils.tal import dist2bbox"
   ]
  },
  {
   "cell_type": "markdown",
   "metadata": {},
   "source": [
    "# Taxon Class"
   ]
  },
  {
   "cell_type": "code",
   "execution_count": 2,
   "metadata": {},
   "outputs": [],
   "source": [
    "class Taxon:\n",
    "    def __init__(self, name, rank):\n",
    "        self.name = name\n",
    "        self.rank = rank\n",
    "        self.parent = None\n",
    "        self.children = []\n",
    "\n",
    "    def set_parent(self, parent):\n",
    "        \"\"\"Sets the parent of this taxon and adds this taxon as a child to the parent.\"\"\"\n",
    "        self.parent = parent\n",
    "        parent.add_child(self)\n",
    "\n",
    "    def add_child(self, child):\n",
    "        \"\"\"Adds a child taxon to this taxon.\"\"\"\n",
    "        self.children.append(child)\n",
    "\n",
    "    def __str__(self):\n",
    "        \"\"\"String representation of the taxon.\"\"\"\n",
    "        return f\"{self.rank}: {self.name}\"\n",
    "\n",
    "class TaxonomyManager:\n",
    "    def __init__(self):\n",
    "        self.taxa = {}  # Stores all taxa regardless of rank\n",
    "\n",
    "    def add_taxon(self, name, rank, parent_name=None):\n",
    "        \"\"\"Adds a taxon to the taxonomy.\"\"\"\n",
    "        taxon = Taxon(name, rank)\n",
    "        self.taxa[name] = taxon\n",
    "        if parent_name:\n",
    "            parent = self.taxa.get(parent_name)\n",
    "            if parent:\n",
    "                taxon.set_parent(parent)\n",
    "\n",
    "    def get_taxon(self, name):\n",
    "        \"\"\"Retrieves a taxon by its name.\"\"\"\n",
    "        return self.taxa.get(name)\n",
    "\n",
    "    def display_taxonomy(self):\n",
    "        \"\"\"Displays the entire taxonomy in a hierarchical format.\"\"\"\n",
    "        # Find roots (taxa without parents)\n",
    "        roots = [taxon for taxon in self.taxa.values() if taxon.parent is None]\n",
    "        for root in roots:\n",
    "            self._display_taxon(root, 0)\n",
    "\n",
    "    def _display_taxon(self, taxon, indent):\n",
    "        \"\"\"Recursive helper function to display a taxon and its children.\"\"\"\n",
    "        print(' ' * indent + str(taxon))\n",
    "        for child in taxon.children:\n",
    "            self._display_taxon(child, indent + 4)"
   ]
  },
  {
   "cell_type": "markdown",
   "metadata": {},
   "source": [
    "# Populate Taxonomy"
   ]
  },
  {
   "cell_type": "code",
   "execution_count": 3,
   "metadata": {},
   "outputs": [],
   "source": [
    "taxonomy = TaxonomyManager()\n",
    "\n",
    "# Populate Objects\n",
    "object_names = [\"marine life\", \"inanimate\"]\n",
    "for name in object_names:\n",
    "    taxonomy.add_taxon(name, \"Binary\")\n",
    "\n",
    "# Populate Binaries\n",
    "binary_mapping = {\n",
    "    \"asteroidea\": \"marine life\",\n",
    "    \"phaeophyceae\": \"marine life\",\n",
    "    \"bivalia\": \"marine life\",\n",
    "    \"myxini\": \"marine life\",\n",
    "    \"artificial\": \"inanimate\",\n",
    "    \"natural\": \"inanimate\",\n",
    "    \"chlorophyta\": \"marine life\",\n",
    "    \"monocots\": \"marine life\"\n",
    "}\n",
    "for class_name, binary_name in binary_mapping.items():\n",
    "    taxonomy.add_taxon(class_name, \"Class\", binary_name)\n",
    "\n",
    "# Populate Classes\n",
    "class_mapping = {\n",
    "    \"asterias\": \"asteroidea\",\n",
    "    \"fucus\": \"phaeophyceae\",\n",
    "    \"henrica\": \"asteroidea\",\n",
    "    \"mya\": \"bivalia\",\n",
    "    \"myxine\": \"myxini\",\n",
    "    \"cylindrical\": \"artificial\",\n",
    "    \"solid\": \"natural\",\n",
    "    \"arboral\": \"natural\",\n",
    "    \"saccharina\": \"phaeophyceae\",\n",
    "    \"ulva\": \"chlorophyta\",\n",
    "    \"urospora\": \"chlorophyta\",\n",
    "    \"zostera\": \"monocots\"\n",
    "}\n",
    "for genus_name, class_name in class_mapping.items():\n",
    "    taxonomy.add_taxon(genus_name, \"Genus\", class_name)\n",
    "\n",
    "# Populate Genera\n",
    "genus_mapping = {\n",
    "    \"asterias rubens\": \"asterias\",\n",
    "    \"asteroidea\": \"asterias\",\n",
    "    \"fucus vesiculosus\": \"fucus\",\n",
    "    \"henrica\": \"henrica\",\n",
    "    \"mytilus edulis\": \"mya\",\n",
    "    \"myxine glurinosa\": \"myxine\",\n",
    "    \"pipe\": \"cylindrical\",\n",
    "    \"rock\": \"solid\",\n",
    "    \"saccharina latissima\": \"saccharina\",\n",
    "    \"tree\": \"arboral\",\n",
    "    \"ulva intestinalis\": \"ulva\",\n",
    "    \"urospora\": \"urospora\",\n",
    "    \"zostera marina\": \"zostera\"\n",
    "}\n",
    "for species_name, genus_name in genus_mapping.items():\n",
    "    taxonomy.add_taxon(species_name, \"Species\", genus_name)"
   ]
  },
  {
   "cell_type": "markdown",
   "metadata": {},
   "source": [
    "# Model Hooks"
   ]
  },
  {
   "cell_type": "markdown",
   "metadata": {},
   "source": [
    "# Extract Prediction from Yolo v8"
   ]
  },
  {
   "cell_type": "code",
   "execution_count": 4,
   "metadata": {},
   "outputs": [],
   "source": [
    "# Load the model with random weights\n",
    "random.seed(133745)\n",
    "IMGDIR_PATH = \"/mnt/RAID/datasets/label-studio/fjord/images/\"\n",
    "imgpath = IMGDIR_PATH + random.choice(os.listdir(IMGDIR_PATH))\n",
    "model, hooks = load_and_prepare_model(\"runs/segment/Yolov8n-seg-train/weights/best.pt\")"
   ]
  },
  {
   "cell_type": "code",
   "execution_count": 203,
   "metadata": {},
   "outputs": [
    {
     "name": "stdout",
     "output_type": "stream",
     "text": [
      "\n",
      "image 1/1 /mnt/RAID/datasets/label-studio/fjord/images/frame013780.jpg: 640x576 1 ulva intestinalis, 1 urospora, 1 zostera marina, 13.7ms\n",
      "Speed: 19.5ms preprocess, 13.7ms inference, 4.7ms postprocess per image at shape (1, 3, 640, 576)\n"
     ]
    }
   ],
   "source": [
    "# Unpack hooks from load_and_prepare_model()\n",
    "input_hook, detect, detect_hook, cv2_hooks, cv3_hooks = hooks\n",
    "\n",
    "# Run inference\n",
    "results = model(imgpath)\n",
    "\n",
    "# Reverse engineer the outputs to find the logits\n",
    "shape = detect_hook.input[0][0].shape  # BCHW\n",
    "x = []\n",
    "for i in range(detect.nl):\n",
    "    x.append(torch.cat((cv2_hooks[i].output, cv3_hooks[i].output), 1))\n",
    "x_cat = torch.cat([xi.view(shape[0], detect.no, -1) for xi in x], 2)\n",
    "box, cls = x_cat.split((detect.reg_max * 4, detect.nc), 1)\n",
    "\n",
    "# Batch size assumed to be 1\n",
    "batch_idx = 0\n",
    "dbox = dist2bbox(detect.dfl(box), detect.anchors.unsqueeze(0), xywh=True, dim=1) * detect.strides\n",
    "cls = cls[batch_idx].sigmoid()\n",
    "\n",
    "# Figure out the original img shape and model img shape to transform the boxes\n",
    "img_shape = input_hook.input[0].shape[2:]\n",
    "orig_img_shape = model.predictor.batch[1][batch_idx].shape[:2]\n",
    "\n",
    "# Compute predictions\n",
    "boxes = []\n",
    "for i in range(dbox.shape[2]):  # Iterate over the third dimension (num_boxes)\n",
    "    x0, y0, x1, y1 = dbox[0, :, i]  # Access all 4 coordinates for the i-th box\n",
    "    \n",
    "    boxes.append({\n",
    "        'image_id': imgpath,\n",
    "        'bbox': [x0.item(), y0.item(), x1.item(), y1.item()],  # xyxy\n",
    "        'logits': cls[:, i].tolist()\n",
    "    })\n",
    "\n",
    "# Prepare boxes for NMS\n",
    "boxes_for_nms = torch.stack([\n",
    "    torch.tensor([*b['bbox'], *b['logits']]) for b in boxes\n",
    "], dim=1).unsqueeze(0)\n",
    "\n",
    "nms_results = ops.non_max_suppression(boxes_for_nms, conf_thres=0.25, iou_thres=0.7)"
   ]
  },
  {
   "cell_type": "code",
   "execution_count": 204,
   "metadata": {},
   "outputs": [
    {
     "data": {
      "text/plain": [
       "ultralytics.engine.results.Boxes object with attributes:\n",
       "\n",
       "cls: tensor([12.], device='cuda:0')\n",
       "conf: tensor([0.9614], device='cuda:0')\n",
       "data: tensor([[  0.8949, 513.6595, 230.0815, 618.6267,   0.9614,  12.0000]], device='cuda:0')\n",
       "id: None\n",
       "is_track: False\n",
       "orig_shape: (619, 534)\n",
       "shape: torch.Size([1, 6])\n",
       "xywh: tensor([[115.4882, 566.1431, 229.1865, 104.9672]], device='cuda:0')\n",
       "xywhn: tensor([[0.2163, 0.9146, 0.4292, 0.1696]], device='cuda:0')\n",
       "xyxy: tensor([[  0.8949, 513.6595, 230.0815, 618.6267]], device='cuda:0')\n",
       "xyxyn: tensor([[0.0017, 0.8298, 0.4309, 0.9994]], device='cuda:0')"
      ]
     },
     "execution_count": 204,
     "metadata": {},
     "output_type": "execute_result"
    }
   ],
   "source": [
    "results[0].boxes[0]"
   ]
  },
  {
   "cell_type": "code",
   "execution_count": 205,
   "metadata": {},
   "outputs": [
    {
     "data": {
      "text/plain": [
       "tensor([[ 12.9253, 531.0857, 249.8871, 639.6140,   0.9614,  12.0000],\n",
       "        [388.0955, 497.2781, 563.7507, 568.1208,   0.9295,  11.0000],\n",
       "        [246.3984, 152.0890, 408.6756, 631.9608,   0.7214,  10.0000]])"
      ]
     },
     "execution_count": 205,
     "metadata": {},
     "output_type": "execute_result"
    }
   ],
   "source": [
    "nms_results[0]"
   ]
  }
 ],
 "metadata": {
  "kernelspec": {
   "display_name": "otherstuffystuff",
   "language": "python",
   "name": "python3"
  },
  "language_info": {
   "codemirror_mode": {
    "name": "ipython",
    "version": 3
   },
   "file_extension": ".py",
   "mimetype": "text/x-python",
   "name": "python",
   "nbconvert_exporter": "python",
   "pygments_lexer": "ipython3",
   "version": "3.10.12"
  },
  "orig_nbformat": 4
 },
 "nbformat": 4,
 "nbformat_minor": 2
}

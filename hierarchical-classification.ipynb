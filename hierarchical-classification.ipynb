{
 "cells": [
  {
   "cell_type": "markdown",
   "metadata": {},
   "source": [
    "# Libraries"
   ]
  },
  {
   "cell_type": "code",
   "execution_count": null,
   "metadata": {},
   "outputs": [],
   "source": [
    "from ultralytics import YOLO\n",
    "import pandas as pd\n",
    "import random\n",
    "from anytree import Node\n",
    "from preprocessing import *\n",
    "import torch\n",
    "torch.cuda.empty_cache()\n",
    "\n",
    "# Set the random seed for reproducibility\n",
    "random.seed(13384)"
   ]
  },
  {
   "cell_type": "markdown",
   "metadata": {},
   "source": [
    "# Populate Taxonomy"
   ]
  },
  {
   "cell_type": "code",
   "execution_count": null,
   "metadata": {},
   "outputs": [],
   "source": [
    "root = Node(\"object\", rank=\"root\")\n",
    "\n",
    "# Create root nodes\n",
    "marine_life = Node(\"marine life\", parent=root, rank=\"binary\")\n",
    "inanimate = Node(\"inanimate\", parent=root, rank=\"binary\")\n",
    "\n",
    "# Create class nodes under the respective root nodes\n",
    "asteroidea = Node(\"asteroidea\", parent=marine_life, rank=\"class\")\n",
    "phaeophyceae = Node(\"phaeophyceae\", parent=marine_life, rank=\"class\")\n",
    "bivalia = Node(\"bivalia\", parent=marine_life, rank=\"class\")\n",
    "myxini = Node(\"myxini\", parent=marine_life, rank=\"class\")\n",
    "artificial = Node(\"artificial\", parent=inanimate, rank=\"class\")\n",
    "natural = Node(\"natural\", parent=inanimate, rank=\"class\")\n",
    "chlorophyta = Node(\"chlorophyta\", parent=marine_life, rank=\"class\")\n",
    "monocots = Node(\"monocots\", parent=marine_life, rank=\"class\")\n",
    "\n",
    "# Create genus nodes under the respective class nodes\n",
    "asterias = Node(\"asterias\", parent=asteroidea, rank=\"genus\")\n",
    "fucus = Node(\"fucus\", parent=phaeophyceae, rank=\"genus\")\n",
    "henrica = Node(\"Henrica\", parent=asteroidea, rank=\"genus\")\n",
    "mya = Node(\"mya\", parent=bivalia, rank=\"genus\")\n",
    "myxine = Node(\"myxine\", parent=myxini, rank=\"genus\")\n",
    "cylindrical = Node(\"cylindrical\", parent=artificial, rank=\"genus\")\n",
    "solid = Node(\"solid\", parent=natural, rank=\"genus\")\n",
    "arboral = Node(\"arboral\", parent=natural, rank=\"genus\")\n",
    "saccharina = Node(\"saccharina\", parent=phaeophyceae, rank=\"genus\")\n",
    "ulva = Node(\"ulva\", parent=chlorophyta, rank=\"genus\")\n",
    "urospora = Node(\"Urospora\", parent=chlorophyta, rank=\"genus\")\n",
    "zostera = Node(\"zostera\", parent=monocots, rank=\"genus\")\n",
    "\n",
    "# Create species nodes under the respective genus nodes\n",
    "asterias_rubens = Node(\"asterias rubens\", parent=asterias, rank=\"species\")\n",
    "fucus_vesiculosus = Node(\"fucus vesiculosus\", parent=fucus, rank=\"species\")\n",
    "henrica_species = Node(\"henrica\", parent=henrica, rank=\"species\")  # Assuming \"henrica\" is a species\n",
    "mytilus_edulis = Node(\"mytilus edulis\", parent=mya, rank=\"species\")\n",
    "myxine_glurinosa = Node(\"myxine glurinosa\", parent=myxine, rank=\"species\")\n",
    "pipe = Node(\"pipe\", parent=cylindrical, rank=\"species\")\n",
    "rock = Node(\"rock\", parent=solid, rank=\"species\")\n",
    "saccharina_latissima = Node(\"saccharina latissima\", parent=saccharina, rank=\"species\")\n",
    "tree = Node(\"tree\", parent=arboral, rank=\"species\")\n",
    "ulva_intestinalis = Node(\"ulva intestinalis\", parent=ulva, rank=\"species\")\n",
    "urospora_species = Node(\"urospora\", parent=urospora, rank=\"species\")\n",
    "zostera_marina = Node(\"zostera marina\", parent=zostera, rank=\"species\")"
   ]
  },
  {
   "cell_type": "markdown",
   "metadata": {},
   "source": [
    "# Extract Prediction from Yolo v8"
   ]
  },
  {
   "cell_type": "code",
   "execution_count": null,
   "metadata": {},
   "outputs": [],
   "source": [
    "# Path to the image directory and model weights\n",
    "IMGDIR_PATH = \"/mnt/RAID/datasets/label-studio/fjord/images/\"\n",
    "MODEL_PATH = \"runs/segment/Yolov8n-seg-train/weights/best.pt\"\n",
    "classes_file = '/mnt/RAID/datasets/label-studio/fjord/classes.txt'\n",
    "\n",
    "# Create a mapping from class indices to class names\n",
    "class_index_to_name = {}\n",
    "with open(classes_file, 'r') as file:\n",
    "    for index, line in enumerate(file):\n",
    "        class_name = line.strip()\n",
    "        class_index_to_name[index] = class_name\n",
    "\n",
    "# Load the YOLO model\n",
    "model = YOLO(MODEL_PATH)"
   ]
  },
  {
   "cell_type": "markdown",
   "metadata": {},
   "source": [
    "# Create Dataset"
   ]
  },
  {
   "cell_type": "code",
   "execution_count": null,
   "metadata": {},
   "outputs": [],
   "source": [
    "import os\n",
    "import random\n",
    "from ultralytics import YOLO\n",
    "\n",
    "# Set paths and model\n",
    "IMGDIR_PATH = \"/mnt/RAID/datasets/label-studio/fjord/images/\"\n",
    "MODEL_PATH = \"runs/segment/Yolov8n-seg-train/weights/best.pt\"\n",
    "model = YOLO(MODEL_PATH)\n",
    "\n",
    "# Randomly select 11,000 images from the directory\n",
    "total_images = 11000\n",
    "image_files = random.sample(os.listdir(IMGDIR_PATH), total_images)\n",
    "image_paths = [os.path.join(IMGDIR_PATH, img) for img in image_files if img.lower().endswith(('.png', '.jpg', '.jpeg'))]\n",
    "\n",
    "# Split into training and testing sets\n",
    "train_image_paths = image_paths[:10000]\n",
    "test_image_paths = image_paths[10000:]\n",
    "\n",
    "# Define a function to process and store batches of images\n",
    "def process_and_store_batches(image_paths, batch_size, parquet_file_name, model):\n",
    "    batch_data = []\n",
    "    for batch_start in range(0, len(image_paths), batch_size):\n",
    "        batch_end = min(batch_start + batch_size, len(image_paths))\n",
    "        batch_results = model(image_paths[batch_start:batch_end], stream=True)\n",
    "\n",
    "        for result in batch_results:\n",
    "            batch_data.extend(process_result(result, root, class_index_to_name))\n",
    "\n",
    "            if len(batch_data) >= batch_size:\n",
    "                df_batch = pd.DataFrame(batch_data)\n",
    "                append_to_parquet_file(df_batch, parquet_file_name)\n",
    "                batch_data = []\n",
    "\n",
    "        # Process and save any remaining results in the batch\n",
    "        if batch_data:\n",
    "            df_batch = pd.DataFrame(batch_data)\n",
    "            append_to_parquet_file(df_batch, parquet_file_name)\n",
    "\n",
    "# Process training images\n",
    "process_and_store_batches(train_image_paths, 500, 'train_dataset.parquet', model)\n",
    "\n",
    "# Process testing images\n",
    "process_and_store_batches(test_image_paths, 500, 'test_dataset.parquet', model)"
   ]
  },
  {
   "cell_type": "markdown",
   "metadata": {},
   "source": [
    "# Pytorch Model"
   ]
  },
  {
   "cell_type": "code",
   "execution_count": null,
   "metadata": {},
   "outputs": [],
   "source": [
    "import torch\n",
    "import torch.nn as nn\n",
    "import torch.nn.functional as F"
   ]
  }
 ],
 "metadata": {
  "kernelspec": {
   "display_name": "otherstuffystuff",
   "language": "python",
   "name": "python3"
  },
  "language_info": {
   "codemirror_mode": {
    "name": "ipython",
    "version": 3
   },
   "file_extension": ".py",
   "mimetype": "text/x-python",
   "name": "python",
   "nbconvert_exporter": "python",
   "pygments_lexer": "ipython3",
   "version": "3.10.12"
  },
  "orig_nbformat": 4
 },
 "nbformat": 4,
 "nbformat_minor": 2
}

{
 "cells": [
  {
   "cell_type": "markdown",
   "metadata": {},
   "source": [
    "# Data Visualization"
   ]
  },
  {
   "cell_type": "markdown",
   "metadata": {},
   "source": [
    "## Libraries"
   ]
  },
  {
   "cell_type": "code",
   "execution_count": 1,
   "metadata": {},
   "outputs": [],
   "source": [
    "from preprocessing import load_and_prepare_model, temperature_scaled_softmax\n",
    "import random\n",
    "import os\n",
    "import torch\n",
    "from ultralytics.utils import ops\n",
    "import numpy as np\n",
    "from ultralytics.utils.tal import dist2bbox"
   ]
  },
  {
   "cell_type": "markdown",
   "metadata": {},
   "source": [
    "# Taxon Class"
   ]
  },
  {
   "cell_type": "code",
   "execution_count": 2,
   "metadata": {},
   "outputs": [],
   "source": [
    "class Taxon:\n",
    "    def __init__(self, name, rank):\n",
    "        self.name = name\n",
    "        self.rank = rank\n",
    "        self.parent = None\n",
    "        self.children = []\n",
    "\n",
    "    def set_parent(self, parent):\n",
    "        \"\"\"Sets the parent of this taxon and adds this taxon as a child to the parent.\"\"\"\n",
    "        self.parent = parent\n",
    "        parent.add_child(self)\n",
    "\n",
    "    def add_child(self, child):\n",
    "        \"\"\"Adds a child taxon to this taxon.\"\"\"\n",
    "        self.children.append(child)\n",
    "\n",
    "    def __str__(self):\n",
    "        \"\"\"String representation of the taxon.\"\"\"\n",
    "        return f\"{self.rank}: {self.name}\"\n",
    "\n",
    "class TaxonomyManager:\n",
    "    def __init__(self):\n",
    "        self.taxa = {}  # Stores all taxa regardless of rank\n",
    "\n",
    "    def add_taxon(self, name, rank, parent_name=None):\n",
    "        \"\"\"Adds a taxon to the taxonomy.\"\"\"\n",
    "        taxon = Taxon(name, rank)\n",
    "        self.taxa[name] = taxon\n",
    "        if parent_name:\n",
    "            parent = self.taxa.get(parent_name)\n",
    "            if parent:\n",
    "                taxon.set_parent(parent)\n",
    "\n",
    "    def get_taxon(self, name):\n",
    "        \"\"\"Retrieves a taxon by its name.\"\"\"\n",
    "        return self.taxa.get(name)\n",
    "\n",
    "    def display_taxonomy(self):\n",
    "        \"\"\"Displays the entire taxonomy in a hierarchical format.\"\"\"\n",
    "        # Find roots (taxa without parents)\n",
    "        roots = [taxon for taxon in self.taxa.values() if taxon.parent is None]\n",
    "        for root in roots:\n",
    "            self._display_taxon(root, 0)\n",
    "\n",
    "    def _display_taxon(self, taxon, indent):\n",
    "        \"\"\"Recursive helper function to display a taxon and its children.\"\"\"\n",
    "        print(' ' * indent + str(taxon))\n",
    "        for child in taxon.children:\n",
    "            self._display_taxon(child, indent + 4)"
   ]
  },
  {
   "cell_type": "markdown",
   "metadata": {},
   "source": [
    "# Populate Taxonomy"
   ]
  },
  {
   "cell_type": "code",
   "execution_count": 3,
   "metadata": {},
   "outputs": [],
   "source": [
    "taxonomy = TaxonomyManager()\n",
    "\n",
    "# Populate Objects\n",
    "object_names = [\"marine life\", \"inanimate\"]\n",
    "for name in object_names:\n",
    "    taxonomy.add_taxon(name, \"Binary\")\n",
    "\n",
    "# Populate Binaries\n",
    "binary_mapping = {\n",
    "    \"asteroidea\": \"marine life\",\n",
    "    \"phaeophyceae\": \"marine life\",\n",
    "    \"bivalia\": \"marine life\",\n",
    "    \"myxini\": \"marine life\",\n",
    "    \"artificial\": \"inanimate\",\n",
    "    \"natural\": \"inanimate\",\n",
    "    \"chlorophyta\": \"marine life\",\n",
    "    \"monocots\": \"marine life\"\n",
    "}\n",
    "for class_name, binary_name in binary_mapping.items():\n",
    "    taxonomy.add_taxon(class_name, \"Class\", binary_name)\n",
    "\n",
    "# Populate Classes\n",
    "class_mapping = {\n",
    "    \"asterias\": \"asteroidea\",\n",
    "    \"fucus\": \"phaeophyceae\",\n",
    "    \"henrica\": \"asteroidea\",\n",
    "    \"mya\": \"bivalia\",\n",
    "    \"myxine\": \"myxini\",\n",
    "    \"cylindrical\": \"artificial\",\n",
    "    \"solid\": \"natural\",\n",
    "    \"arboral\": \"natural\",\n",
    "    \"saccharina\": \"phaeophyceae\",\n",
    "    \"ulva\": \"chlorophyta\",\n",
    "    \"urospora\": \"chlorophyta\",\n",
    "    \"zostera\": \"monocots\"\n",
    "}\n",
    "for genus_name, class_name in class_mapping.items():\n",
    "    taxonomy.add_taxon(genus_name, \"Genus\", class_name)\n",
    "\n",
    "# Populate Genera\n",
    "genus_mapping = {\n",
    "    \"asterias rubens\": \"asterias\",\n",
    "    \"asteroidea\": \"asterias\",\n",
    "    \"fucus vesiculosus\": \"fucus\",\n",
    "    \"henrica\": \"henrica\",\n",
    "    \"mytilus edulis\": \"mya\",\n",
    "    \"myxine glurinosa\": \"myxine\",\n",
    "    \"pipe\": \"cylindrical\",\n",
    "    \"rock\": \"solid\",\n",
    "    \"saccharina latissima\": \"saccharina\",\n",
    "    \"tree\": \"arboral\",\n",
    "    \"ulva intestinalis\": \"ulva\",\n",
    "    \"urospora\": \"urospora\",\n",
    "    \"zostera marina\": \"zostera\"\n",
    "}\n",
    "for species_name, genus_name in genus_mapping.items():\n",
    "    taxonomy.add_taxon(species_name, \"Species\", genus_name)"
   ]
  },
  {
   "cell_type": "markdown",
   "metadata": {},
   "source": [
    "# Model Hooks"
   ]
  },
  {
   "cell_type": "markdown",
   "metadata": {},
   "source": [
    "# Extract Prediction from Yolo v8"
   ]
  },
  {
   "cell_type": "code",
   "execution_count": 4,
   "metadata": {},
   "outputs": [],
   "source": [
    "# Load the model with random weights\n",
    "random.seed(133745)\n",
    "IMGDIR_PATH = \"/mnt/RAID/datasets/label-studio/fjord/images/\"\n",
    "imgpath = IMGDIR_PATH + random.choice(os.listdir(IMGDIR_PATH))\n",
    "model, hooks = load_and_prepare_model(\"runs/segment/Yolov8n-seg-train/weights/best.pt\")"
   ]
  },
  {
   "cell_type": "code",
   "execution_count": 5,
   "metadata": {},
   "outputs": [
    {
     "name": "stdout",
     "output_type": "stream",
     "text": [
      "\n",
      "WARNING ⚠️ NMS time limit 0.550s exceeded\n",
      "image 1/1 /mnt/RAID/datasets/label-studio/fjord/images/frame013780.jpg: 640x576 1 ulva intestinalis, 1 urospora, 1 zostera marina, 347.2ms\n",
      "Speed: 10.2ms preprocess, 347.2ms inference, 1924.5ms postprocess per image at shape (1, 3, 640, 576)\n"
     ]
    }
   ],
   "source": [
    "# Unpack hooks from load_and_prepare_model()\n",
    "input_hook, detect, detect_hook, cv2_hooks, cv3_hooks = hooks\n",
    "\n",
    "# Run inference\n",
    "model(imgpath)\n",
    "\n",
    "# Reverse engineer the outputs to find the logits\n",
    "shape = detect_hook.input[0][0].shape  # BCHW\n",
    "x = []\n",
    "for i in range(detect.nl):\n",
    "    x.append(torch.cat((cv2_hooks[i].output, cv3_hooks[i].output), 1))\n",
    "x_cat = torch.cat([xi.view(shape[0], detect.no, -1) for xi in x], 2)\n",
    "box, cls = x_cat.split((detect.reg_max * 4, detect.nc), 1)\n",
    "\n",
    "# Batch size assumed to be 1\n",
    "batch_idx = 0\n",
    "dbox = dist2bbox(detect.dfl(box), detect.anchors.unsqueeze(0), xywh=True, dim=1) * detect.strides\n",
    "cls = cls[batch_idx].sigmoid()\n",
    "\n",
    "# Figure out the original img shape and model img shape to transform the boxes\n",
    "img_shape = input_hook.input[0].shape[2:]\n",
    "orig_img_shape = model.predictor.batch[1][batch_idx].shape[:2]\n",
    "\n",
    "# Compute predictions\n",
    "boxes = []\n",
    "for i in range(dbox.shape[2]):  # Iterate over the third dimension (num_boxes)\n",
    "    x0, y0, x1, y1 = dbox[0, :, i]  # Access all 4 coordinates for the i-th box\n",
    "    x0, y0, x1, y1 = ops.scale_boxes(img_shape, np.array([x0.cpu(), y0.cpu(), x1.cpu(), y1.cpu()]), orig_img_shape)\n",
    "    \n",
    "    boxes.append({\n",
    "        'image_id': imgpath,\n",
    "        'bbox': [x0.item(), y0.item(), x1.item(), y1.item()],  # xyxy\n",
    "        'bbox_xcycwh': [(x0.item() + x1.item())/2, (y0.item() + y1.item())/2, x1.item() - x0.item(), y1.item() - y0.item()],\n",
    "        'logits': cls[:, i].tolist()\n",
    "    })\n",
    "\n",
    "# Prepare boxes for NMS\n",
    "boxes_for_nms = torch.stack([\n",
    "    torch.tensor([*b['bbox_xcycwh'], *b['logits']]) for b in boxes\n",
    "], dim=1).unsqueeze(0)\n",
    "\n",
    "nms_results = ops.non_max_suppression(boxes_for_nms, conf_thres=0.5, iou_thres=0.7)"
   ]
  },
  {
   "cell_type": "code",
   "execution_count": 7,
   "metadata": {},
   "outputs": [
    {
     "data": {
      "text/plain": [
       "tensor([[115.4882, 566.1431, 217.5803, 104.9672,   0.9614,  12.0000],\n",
       "        [115.1407, 566.0378, 217.6956, 105.0155,   0.9592,  12.0000],\n",
       "        [115.3218, 566.2609, 217.5932, 104.8498,   0.9545,  12.0000],\n",
       "        [115.3655, 565.9752, 217.3923, 105.2337,   0.9542,  12.0000],\n",
       "        [114.9085, 565.8546, 219.3447, 105.7377,   0.9503,  12.0000],\n",
       "        [115.2561, 566.1831, 217.0498, 104.6300,   0.9502,  12.0000],\n",
       "        [115.4984, 566.3156, 217.3478, 104.6519,   0.9489,  12.0000],\n",
       "        [115.2101, 566.1779, 218.1667, 104.8736,   0.9484,  12.0000],\n",
       "        [115.4393, 566.3303, 217.4231, 104.6662,   0.9439,  12.0000],\n",
       "        [115.4363, 566.1382, 217.5255, 105.2556,   0.9387,  12.0000],\n",
       "        [448.7006, 515.2203, 158.2852,  68.5182,   0.9295,  11.0000],\n",
       "        [448.9079, 515.2396, 157.7410,  68.7162,   0.9277,  11.0000],\n",
       "        [448.5760, 515.3473, 158.1650,  68.8945,   0.9271,  11.0000],\n",
       "        [448.6293, 515.1596, 156.5981,  68.7595,   0.9154,  11.0000],\n",
       "        [448.5184, 515.3426, 158.7338,  68.1760,   0.9113,  11.0000],\n",
       "        [448.7275, 515.1409, 156.3502,  68.9160,   0.9065,  11.0000],\n",
       "        [448.9284, 515.0906, 155.6393,  68.8160,   0.9046,  11.0000],\n",
       "        [449.0101, 515.4280, 159.7861,  68.2176,   0.8971,  11.0000],\n",
       "        [448.7107, 515.1476, 158.8194,  68.3055,   0.8959,  11.0000],\n",
       "        [448.5585, 514.9754, 157.1487,  69.5820,   0.8696,  11.0000],\n",
       "        [305.1834, 379.1616, 145.3463, 464.1260,   0.7214,  10.0000],\n",
       "        [305.4929, 379.1700, 145.8737, 464.0777,   0.7193,  10.0000],\n",
       "        [305.6512, 348.2013, 144.8302, 463.9238,   0.7151,  10.0000],\n",
       "        [305.5853, 363.7354, 144.9988, 463.7416,   0.7098,  10.0000],\n",
       "        [305.3640, 363.6829, 145.2936, 464.0750,   0.7073,  10.0000],\n",
       "        [305.7142, 348.1847, 144.9458, 464.0642,   0.7027,  10.0000],\n",
       "        [305.8319, 348.2055, 146.1472, 464.0476,   0.7025,  10.0000],\n",
       "        [305.6541, 363.7078, 145.2022, 463.9349,   0.6882,  10.0000],\n",
       "        [305.2578, 379.1743, 146.1300, 464.0868,   0.6690,  10.0000],\n",
       "        [305.4788, 363.6947, 146.3058, 464.0644,   0.6586,  10.0000]])"
      ]
     },
     "execution_count": 7,
     "metadata": {},
     "output_type": "execute_result"
    }
   ],
   "source": [
    "\n",
    "nms_results[0]"
   ]
  }
 ],
 "metadata": {
  "kernelspec": {
   "display_name": "otherstuffystuff",
   "language": "python",
   "name": "python3"
  },
  "language_info": {
   "codemirror_mode": {
    "name": "ipython",
    "version": 3
   },
   "file_extension": ".py",
   "mimetype": "text/x-python",
   "name": "python",
   "nbconvert_exporter": "python",
   "pygments_lexer": "ipython3",
   "version": "3.10.12"
  },
  "orig_nbformat": 4
 },
 "nbformat": 4,
 "nbformat_minor": 2
}

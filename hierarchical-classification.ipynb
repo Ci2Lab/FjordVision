{
 "cells": [
  {
   "cell_type": "markdown",
   "metadata": {},
   "source": [
    "# Data Visualization"
   ]
  },
  {
   "cell_type": "markdown",
   "metadata": {},
   "source": [
    "## Libraries"
   ]
  },
  {
   "cell_type": "code",
   "execution_count": 1,
   "metadata": {},
   "outputs": [],
   "source": [
    "from preprocessing import load_and_prepare_model, run_predict\n",
    "import random\n",
    "import os"
   ]
  },
  {
   "cell_type": "markdown",
   "metadata": {},
   "source": [
    "# Taxon Class"
   ]
  },
  {
   "cell_type": "code",
   "execution_count": 2,
   "metadata": {},
   "outputs": [],
   "source": [
    "class Taxon:\n",
    "    def __init__(self, name, rank):\n",
    "        self.name = name\n",
    "        self.rank = rank\n",
    "        self.parent = None\n",
    "        self.children = []\n",
    "\n",
    "    def set_parent(self, parent):\n",
    "        \"\"\"Sets the parent of this taxon and adds this taxon as a child to the parent.\"\"\"\n",
    "        self.parent = parent\n",
    "        parent.add_child(self)\n",
    "\n",
    "    def add_child(self, child):\n",
    "        \"\"\"Adds a child taxon to this taxon.\"\"\"\n",
    "        self.children.append(child)\n",
    "\n",
    "    def __str__(self):\n",
    "        \"\"\"String representation of the taxon.\"\"\"\n",
    "        return f\"{self.rank}: {self.name}\"\n",
    "\n",
    "class TaxonomyManager:\n",
    "    def __init__(self):\n",
    "        self.taxa = {}  # Stores all taxa regardless of rank\n",
    "\n",
    "    def add_taxon(self, name, rank, parent_name=None):\n",
    "        \"\"\"Adds a taxon to the taxonomy.\"\"\"\n",
    "        taxon = Taxon(name, rank)\n",
    "        self.taxa[name] = taxon\n",
    "        if parent_name:\n",
    "            parent = self.taxa.get(parent_name)\n",
    "            if parent:\n",
    "                taxon.set_parent(parent)\n",
    "\n",
    "    def get_taxon(self, name):\n",
    "        \"\"\"Retrieves a taxon by its name.\"\"\"\n",
    "        return self.taxa.get(name)\n",
    "\n",
    "    def display_taxonomy(self):\n",
    "        \"\"\"Displays the entire taxonomy in a hierarchical format.\"\"\"\n",
    "        # Find roots (taxa without parents)\n",
    "        roots = [taxon for taxon in self.taxa.values() if taxon.parent is None]\n",
    "        for root in roots:\n",
    "            self._display_taxon(root, 0)\n",
    "\n",
    "    def _display_taxon(self, taxon, indent):\n",
    "        \"\"\"Recursive helper function to display a taxon and its children.\"\"\"\n",
    "        print(' ' * indent + str(taxon))\n",
    "        for child in taxon.children:\n",
    "            self._display_taxon(child, indent + 4)"
   ]
  },
  {
   "cell_type": "markdown",
   "metadata": {},
   "source": [
    "# Populate Taxonomy"
   ]
  },
  {
   "cell_type": "code",
   "execution_count": 3,
   "metadata": {},
   "outputs": [],
   "source": [
    "taxonomy = TaxonomyManager()\n",
    "\n",
    "# Populate Objects\n",
    "object_names = [\"marine life\", \"inanimate\"]\n",
    "for name in object_names:\n",
    "    taxonomy.add_taxon(name, \"Binary\")\n",
    "\n",
    "# Populate Binaries\n",
    "binary_mapping = {\n",
    "    \"asteroidea\": \"marine life\",\n",
    "    \"phaeophyceae\": \"marine life\",\n",
    "    \"bivalia\": \"marine life\",\n",
    "    \"myxini\": \"marine life\",\n",
    "    \"artificial\": \"inanimate\",\n",
    "    \"natural\": \"inanimate\",\n",
    "    \"chlorophyta\": \"marine life\",\n",
    "    \"monocots\": \"marine life\"\n",
    "}\n",
    "for class_name, binary_name in binary_mapping.items():\n",
    "    taxonomy.add_taxon(class_name, \"Class\", binary_name)\n",
    "\n",
    "# Populate Classes\n",
    "class_mapping = {\n",
    "    \"asterias\": \"asteroidea\",\n",
    "    \"fucus\": \"phaeophyceae\",\n",
    "    \"henrica\": \"asteroidea\",\n",
    "    \"mya\": \"bivalia\",\n",
    "    \"myxine\": \"myxini\",\n",
    "    \"cylindrical\": \"artificial\",\n",
    "    \"solid\": \"natural\",\n",
    "    \"arboral\": \"natural\",\n",
    "    \"saccharina\": \"phaeophyceae\",\n",
    "    \"ulva\": \"chlorophyta\",\n",
    "    \"urospora\": \"chlorophyta\",\n",
    "    \"zostera\": \"monocots\"\n",
    "}\n",
    "for genus_name, class_name in class_mapping.items():\n",
    "    taxonomy.add_taxon(genus_name, \"Genus\", class_name)\n",
    "\n",
    "# Populate Genera\n",
    "genus_mapping = {\n",
    "    \"asterias rubens\": \"asterias\",\n",
    "    \"asteroidea\": \"asterias\",\n",
    "    \"fucus vesiculosus\": \"fucus\",\n",
    "    \"henrica\": \"henrica\",\n",
    "    \"mytilus edulis\": \"mya\",\n",
    "    \"myxine glurinosa\": \"myxine\",\n",
    "    \"pipe\": \"cylindrical\",\n",
    "    \"rock\": \"solid\",\n",
    "    \"saccharina latissima\": \"saccharina\",\n",
    "    \"tree\": \"arboral\",\n",
    "    \"ulva intestinalis\": \"ulva\",\n",
    "    \"urospora\": \"urospora\",\n",
    "    \"zostera marina\": \"zostera\"\n",
    "}\n",
    "for species_name, genus_name in genus_mapping.items():\n",
    "    taxonomy.add_taxon(species_name, \"Species\", genus_name)"
   ]
  },
  {
   "cell_type": "markdown",
   "metadata": {},
   "source": [
    "# Model Hooks"
   ]
  },
  {
   "cell_type": "markdown",
   "metadata": {},
   "source": [
    "# Extract Prediction from Yolo v8"
   ]
  },
  {
   "cell_type": "code",
   "execution_count": 4,
   "metadata": {},
   "outputs": [
    {
     "name": "stdout",
     "output_type": "stream",
     "text": [
      "\n",
      "WARNING ⚠️ NMS time limit 0.550s exceeded\n",
      "image 1/1 /mnt/RAID/datasets/label-studio/fjord/images/frame013780.jpg: 640x576 1 ulva intestinalis, 1 urospora, 1 zostera marina, 331.0ms\n",
      "Speed: 12.0ms preprocess, 331.0ms inference, 1758.8ms postprocess per image at shape (1, 3, 640, 576)\n"
     ]
    }
   ],
   "source": [
    "# Load the model with random weights\n",
    "random.seed(133745)\n",
    "IMGDIR_PATH = \"/mnt/RAID/datasets/label-studio/fjord/images/\"\n",
    "imgpath = IMGDIR_PATH + random.choice(os.listdir(IMGDIR_PATH))\n",
    "model, hooks = load_and_prepare_model(\"runs/segment/Yolov8n-seg-train/weights/best.pt\")\n",
    "results = run_predict(imgpath, model, hooks, score_threshold=0.5, iou_threshold=0.7)"
   ]
  },
  {
   "cell_type": "code",
   "execution_count": 5,
   "metadata": {},
   "outputs": [
    {
     "data": {
      "text/plain": [
       "3"
      ]
     },
     "execution_count": 5,
     "metadata": {},
     "output_type": "execute_result"
    }
   ],
   "source": [
    "len(results)"
   ]
  },
  {
   "cell_type": "code",
   "execution_count": 6,
   "metadata": {},
   "outputs": [
    {
     "data": {
      "text/plain": [
       "13"
      ]
     },
     "execution_count": 6,
     "metadata": {},
     "output_type": "execute_result"
    }
   ],
   "source": [
    "len(results[0]['activations'])"
   ]
  }
 ],
 "metadata": {
  "kernelspec": {
   "display_name": "otherstuffystuff",
   "language": "python",
   "name": "python3"
  },
  "language_info": {
   "codemirror_mode": {
    "name": "ipython",
    "version": 3
   },
   "file_extension": ".py",
   "mimetype": "text/x-python",
   "name": "python",
   "nbconvert_exporter": "python",
   "pygments_lexer": "ipython3",
   "version": "3.10.12"
  },
  "orig_nbformat": 4
 },
 "nbformat": 4,
 "nbformat_minor": 2
}

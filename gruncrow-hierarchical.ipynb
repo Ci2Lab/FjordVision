{
 "cells": [
  {
   "cell_type": "markdown",
   "metadata": {},
   "source": [
    "# Data Visualization"
   ]
  },
  {
   "cell_type": "markdown",
   "metadata": {},
   "source": [
    "## Libraries"
   ]
  },
  {
   "cell_type": "code",
   "execution_count": 21,
   "metadata": {},
   "outputs": [],
   "source": [
    "import pandas as pd\n",
    "import matplotlib.pyplot as plt\n",
    "import matplotlib.patches as patches\n",
    "from PIL import Image\n",
    "import random\n",
    "import json"
   ]
  },
  {
   "cell_type": "markdown",
   "metadata": {},
   "source": [
    "## Constants"
   ]
  },
  {
   "cell_type": "code",
   "execution_count": 22,
   "metadata": {},
   "outputs": [],
   "source": [
    "PATH = \"../../\"\n",
    "IMAGES_PATH = PATH + \"Dataset/images/\"\n",
    "\n",
    "csv_file = PATH + \"Data/CSVs/dataset_caltech_yolo.csv\"\n",
    "\n",
    "predictions_file = PATH + \"predictions.json\"\n",
    "\n",
    "new_predictions_file = PATH + \"new_predictions.json\""
   ]
  },
  {
   "cell_type": "code",
   "execution_count": 23,
   "metadata": {},
   "outputs": [],
   "source": [
    "species_mapping = {\n",
    "    0: \"bird\",\n",
    "    1: \"cow\",\n",
    "    2: \"domestic dog\",\n",
    "    3: \"egyptian mongoose\",\n",
    "    4: \"european badger\",\n",
    "    5: \"european rabbit\",\n",
    "    6: \"fallow deer\",\n",
    "    7: \"genet\",\n",
    "    8: \"horse\",\n",
    "    9: \"human\",\n",
    "    10: \"iberian hare\",\n",
    "    11: \"iberian lynx\",\n",
    "    12: \"red deer\",\n",
    "    13: \"red fox\",\n",
    "    14: \"wild boar\",\n",
    "\n",
    "    213: \"canidae\",\n",
    "    510: \"leporid\",\n",
    "    612: \"cervid\",\n",
    "\n",
    "    1000: \"animal\"\n",
    "}\n",
    "\n",
    "inverted_species_mapping = {value: key for key, value in species_mapping.items()}\n",
    "\n",
    "family_mapping = {\n",
    "    \"bird\": \"\",\n",
    "    \"cow\": \"\",\n",
    "    \"domestic dog\": \"canidae\",\n",
    "    \"egyptian mongoose\": \"\",\n",
    "    \"european badger\": \"\",\n",
    "    \"european rabbit\": \"leporid\",\n",
    "    \"fallow deer\": \"cervid\",\n",
    "    \"genet\": \"\",\n",
    "    \"horse\": \"\",\n",
    "    \"human\": \"\",\n",
    "    \"iberian hare\": \"leporid\",\n",
    "    \"iberian lynx\": \"\",\n",
    "    \"red deer\": \"cervid\",\n",
    "    \"red fox\": \"canidae\",\n",
    "    \"wild boar\": \"\",\n",
    "}\n",
    "\n",
    "# Create the inverted dictionary\n",
    "inverted_family_mapping = {}\n",
    "for key, value in family_mapping.items():\n",
    "    if value:\n",
    "        if value not in inverted_family_mapping:\n",
    "            inverted_family_mapping[value] = [key]\n",
    "        else:\n",
    "            inverted_family_mapping[value].append(key)"
   ]
  },
  {
   "cell_type": "code",
   "execution_count": 24,
   "metadata": {},
   "outputs": [],
   "source": [
    "def get_species_names_from_family_names(family_name):\n",
    "    return inverted_family_mapping[family_name]\n",
    "\n",
    "def get_specie_id_from_specie_name(specie_name):\n",
    "    return inverted_species_mapping[specie_name]\n",
    "\n",
    "def get_specie_name_from_specie_id(specie_id):\n",
    "    return species_mapping[specie_id]\n",
    "\n",
    "def get_family_name_from_specie_id(specie_id): # get_family_name_from_specie_id(12)\n",
    "    return family_mapping[species_mapping[specie_id]]\n",
    "\n",
    "def get_family_id_from_specie_id(specie_id): # get_family_name_from_specie_id(12)\n",
    "    return inverted_species_mapping[family_mapping[species_mapping[specie_id]]]\n",
    "\n",
    "def get_family_name_from_family_id(family_id):\n",
    "    return species_mapping[family_id]\n",
    "\n",
    "def get_family_id_from_family_name(family_name):\n",
    "    return inverted_species_mapping[family_name]"
   ]
  },
  {
   "cell_type": "code",
   "execution_count": 25,
   "metadata": {},
   "outputs": [],
   "source": [
    "# Load the files\n",
    "df = pd.read_csv(csv_file)\n",
    "\n",
    "with open(predictions_file, \"r\") as f:\n",
    "    predictions = json.load(f)"
   ]
  },
  {
   "cell_type": "code",
   "execution_count": 26,
   "metadata": {},
   "outputs": [],
   "source": [
    "threshold = 0.75"
   ]
  },
  {
   "cell_type": "code",
   "execution_count": 27,
   "metadata": {},
   "outputs": [],
   "source": [
    "{\"image_id\": \"80_20220907 (4008).JPG\", \"category_id\": 14, \"bbox\": [677.8606567382812, 678.1602783203125, 209.16204833984375, 79.592041015625], \"score\": 0.6535040736198425, \"activations\": [3.7420848002511775e-06, 0.006725645158439875, 9.184383088722825e-05, 0.0006683067185804248, 0.0002859352680388838, 1.6009676983230747e-05, 1.9101062207482755e-05, 6.503734766738489e-05, 0.03393729031085968, 0.0005564815364778042, 6.1949035625730176e-06, 0.00018715407350100577, 0.00028540799394249916, 0.00114127853885293, 0.6535040736198425]};"
   ]
  },
  {
   "cell_type": "code",
   "execution_count": 28,
   "metadata": {},
   "outputs": [
    {
     "name": "stdout",
     "output_type": "stream",
     "text": [
      "No se encontró ningún item con image_id igual a '80_20220907 (4008).JPG'.\n"
     ]
    }
   ],
   "source": [
    "# Image ID\n",
    "target_image_id = \"80_20220907 (4008).JPG\" #\"79_20220701 (284).JPG\"\n",
    "\n",
    "def classify_species_family(item, species_threshold=0.75):\n",
    "    max_activation = max(item['activations'])\n",
    "    max_species_index = item['activations'].index(max_activation)\n",
    "    max_species = species_mapping[max_species_index]\n",
    "    \n",
    "    if max_activation < species_threshold:\n",
    "        family = family_mapping[max_species]\n",
    "        if family != \"\":\n",
    "            max_species = family\n",
    "    \n",
    "    return max_species\n",
    "\n",
    "# Buscar el item con el image_id objetivo\n",
    "target_item = None\n",
    "for item in predictions:\n",
    "    if item['image_id'] == target_image_id:\n",
    "        target_item = item\n",
    "        break\n",
    "\n",
    "if target_item is not None:\n",
    "    final_classification = classify_species_family(target_item)\n",
    "    \n",
    "    original_classification = species_mapping[target_item['activations'].index(max(target_item['activations']))]\n",
    "    \n",
    "    if final_classification != original_classification:\n",
    "        final_classification = f\"{final_classification} ({original_classification})\"\n",
    "    \n",
    "    print(\"Clasificación final:\", final_classification)\n",
    "else:\n",
    "    print(f\"No se encontró ningún item con image_id igual a '{target_image_id}'.\")"
   ]
  },
  {
   "cell_type": "code",
   "execution_count": 29,
   "metadata": {},
   "outputs": [],
   "source": [
    "# Process each prediction and update the category_id and original_category_id\n",
    "for prediction in predictions:\n",
    "\n",
    "    class_found = False\n",
    "    \n",
    "    species_index = prediction['category_id']\n",
    "    species_name = species_mapping.get(species_index)\n",
    "\n",
    "    original_score = max(prediction['activations'])\n",
    "\n",
    "    if species_name is not None:\n",
    "        # Determine if the species should be updated based on activation threshold\n",
    "        if original_score < threshold:\n",
    "            family_name = family_mapping.get(species_name)\n",
    "\n",
    "            if family_name:\n",
    "                family_species_names = get_species_names_from_family_names(family_name)\n",
    "                # Calculate upper category score\n",
    "                family_score = 0\n",
    "                for family_specie_name in family_species_names:\n",
    "                    family_specie_id = get_specie_id_from_specie_name(family_specie_name)\n",
    "                    family_score += prediction['activations'][family_specie_id]\n",
    "                \n",
    "                family_index = get_family_id_from_family_name(family_name)\n",
    "                \n",
    "                if family_score >= threshold:\n",
    "                    class_found = True\n",
    "                    # Update category_id and original_category_id\n",
    "                    prediction['original_category_id'] = species_index\n",
    "                    prediction['category_id'] = family_index\n",
    "                    prediction['original_score'] = original_score\n",
    "                    prediction['score'] = family_score\n",
    "            \n",
    "            if not class_found:\n",
    "                # if there is an upper category\n",
    "                prediction['original_category_id'] = species_index\n",
    "                prediction['category_id'] = 1000 # animal idx\n",
    "                prediction['original_score'] = original_score\n",
    "                prediction['score'] = 1"
   ]
  },
  {
   "cell_type": "code",
   "execution_count": 30,
   "metadata": {},
   "outputs": [],
   "source": [
    "# Save the modified predictions to a new JSON file\n",
    "with open(new_predictions_file, 'w') as f:\n",
    "    json.dump(predictions, f, indent=4)"
   ]
  }
 ],
 "metadata": {
  "kernelspec": {
   "display_name": "otherstuffystuff",
   "language": "python",
   "name": "python3"
  },
  "language_info": {
   "codemirror_mode": {
    "name": "ipython",
    "version": 3
   },
   "file_extension": ".py",
   "mimetype": "text/x-python",
   "name": "python",
   "nbconvert_exporter": "python",
   "pygments_lexer": "ipython3",
   "version": "3.8.17"
  },
  "orig_nbformat": 4
 },
 "nbformat": 4,
 "nbformat_minor": 2
}

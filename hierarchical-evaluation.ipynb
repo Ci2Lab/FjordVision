{
 "cells": [
  {
   "cell_type": "markdown",
   "metadata": {},
   "source": [
    "# Import and Loads"
   ]
  },
  {
   "cell_type": "code",
   "execution_count": 1,
   "metadata": {},
   "outputs": [],
   "source": [
    "from ultralytics import YOLO\n",
    "import os \n",
    "import sys\n",
    "sys.path.append(\"/mnt/RAID/projects/FjordVision\")\n",
    "from models.probability_tree import ProbabilityTree\n",
    "import torch\n",
    "from anytree.importer import JsonImporter\n",
    "from preprocessing.preprocessing import load_ground_truth_mask_xyn, convert_polygon_to_mask, calculate_binary_mask_iou\n",
    "from utils.metrics import calculate_hierarchical_precision_recall, calculate_weighted_f1_score, hierarchical_similarity\n",
    "torch.cuda.empty_cache()\n",
    "\n",
    "# Function to divide the data into chunks of size n\n",
    "def chunks(lst, n):\n",
    "    \"\"\"Yield successive n-sized chunks from lst.\"\"\"\n",
    "    for i in range(0, len(lst), n):\n",
    "        yield lst[i:i + n]\n",
    "\n",
    "# Define the file path\n",
    "weights_path = '/mnt/RAID/projects/FjordVision/runs/segment/Yolov8n-seg-train/weights/best.pt'\n",
    "\n",
    "# Load the YOLO model weights\n",
    "model = YOLO(weights_path)\n",
    "\n",
    "importer = JsonImporter()\n",
    "with open('data/ontology.json', 'r') as f:\n",
    "    root = importer.read(f)\n",
    "\n",
    "classes_file = '/mnt/RAID/datasets/label-studio/fjord/classes.txt'\n",
    "\n",
    "species_names = []\n",
    "with open(classes_file, 'r') as file:\n",
    "    species_names = [line.strip() for line in file]\n",
    "\n",
    "genus_names, class_names, binary_names = [], [], []\n",
    "for node in root.descendants:\n",
    "    if node.rank == 'genus':\n",
    "        genus_names.append(node.name)\n",
    "    elif node.rank == 'class':\n",
    "        class_names.append(node.name)\n",
    "    elif node.rank == 'binary':\n",
    "        binary_names.append(node.name)\n",
    "\n",
    "taxonomies = [species_names, genus_names, class_names, binary_names]"
   ]
  },
  {
   "cell_type": "markdown",
   "metadata": {},
   "source": [
    "# Construct Probability Tree"
   ]
  },
  {
   "cell_type": "code",
   "execution_count": 2,
   "metadata": {},
   "outputs": [],
   "source": [
    "# Usage example\n",
    "ontology_path = 'data/ontology.json'  # Update this path as necessary\n",
    "prob_tree = ProbabilityTree(ontology_path)"
   ]
  },
  {
   "cell_type": "markdown",
   "metadata": {},
   "source": [
    "# Training Loop"
   ]
  },
  {
   "cell_type": "code",
   "execution_count": 4,
   "metadata": {},
   "outputs": [
    {
     "name": "stdout",
     "output_type": "stream",
     "text": [
      "\n",
      "\n",
      "\n",
      "\n",
      "\n",
      "\n",
      "\n",
      "\n",
      "\n",
      "\n",
      "\n",
      "\n",
      "\n",
      "\n",
      "\n",
      "\n",
      "\n",
      "\n",
      "\n",
      "\n",
      "\n",
      "\n",
      "\n",
      "\n",
      "\n",
      "\n",
      "\n",
      "\n",
      "\n",
      "\n",
      "\n",
      "\n",
      "\n",
      "\n",
      "\n"
     ]
    }
   ],
   "source": [
    "# Define the image folder path\n",
    "image_folder_path = '/mnt/RAID/datasets/The Fjord Dataset/fjord/images/test/'\n",
    "frames = os.listdir(image_folder_path)\n",
    "image_files_full_path = [image_folder_path + f for f in frames]\n",
    "\n",
    "# Define the label folder path\n",
    "label_folder_path = '/mnt/RAID/datasets/The Fjord Dataset/fjord/labels/test/'\n",
    "\n",
    "classes = '/mnt/RAID/datasets/The Fjord Dataset/fjord/classes.txt'\n",
    "\n",
    "class_index = []\n",
    "with open(classes, 'r') as file:\n",
    "    for line_number, line in enumerate(file, start=1):\n",
    "        class_name = line.strip()\n",
    "        class_index.append(class_name)\n",
    "\n",
    "Y = []\n",
    "Yhat = []\n",
    "confidences = []\n",
    "batch_size = 50\n",
    "\n",
    "# Loop through batches of images\n",
    "for image_batch in chunks(image_files_full_path, batch_size):\n",
    "\n",
    "    with torch.no_grad():\n",
    "        predictions = model(image_batch, stream=True)\n",
    "\n",
    "    # Loop through the files in the image folder\n",
    "    for file_name, prediction in zip(image_batch, predictions):\n",
    "        # Check if the file is an image file\n",
    "        if file_name.endswith('.jpg') or file_name.endswith('.png'):\n",
    "            # Construct the corresponding label file name\n",
    "            shape = prediction.orig_img.shape[:2]\n",
    "            base_file_name = file_name.split('/')[-1].replace('.jpg', '.txt')\n",
    "            label_file_path = label_folder_path + base_file_name\n",
    "        \n",
    "            # check if predictions are empty\n",
    "            if len(prediction.boxes.cls) == 0:\n",
    "                continue\n",
    "\n",
    "            GT = load_ground_truth_mask_xyn(label_file_path)\n",
    "            visited = len(GT)*[None]\n",
    "\n",
    "            for cls, mask, conf in zip(prediction.boxes.cls, prediction.masks.xyn, prediction.boxes.conf):\n",
    "                confidences.append(conf.item())\n",
    "                m = convert_polygon_to_mask(mask, shape)\n",
    "                best_iou = 0\n",
    "\n",
    "                # calculate iou and find the best mask\n",
    "                for idx, (gcls, gmsk) in enumerate(GT):\n",
    "                    g = convert_polygon_to_mask(gmsk, shape)\n",
    "                    iou = calculate_binary_mask_iou(m, g)\n",
    "\n",
    "                    if iou > best_iou and iou > 0.5:\n",
    "                        best_iou = iou\n",
    "                        best_g = g\n",
    "                        best_gcls = gcls\n",
    "                        visited[idx] = True\n",
    "                        best_idx = idx\n",
    "\n",
    "                if best_idx is not None and best_iou > 0.5:\n",
    "                    visited[best_idx] = True\n",
    "\n",
    "                if best_g is None:\n",
    "                    Y.append(None)\n",
    "                    Yhat.append(int(cls.item()))\n",
    "                else:\n",
    "                    Y.append(best_gcls)\n",
    "                    Yhat.append(int(cls.item()))\n",
    "\n",
    "            for vis in visited:\n",
    "                if vis is None:\n",
    "                    Y.append(GT[idx][0])\n",
    "                    Yhat.append(None)\n",
    "\n",
    "    # After processing each batch, clear unused memory from CUDA\n",
    "    torch.cuda.empty_cache()"
   ]
  },
  {
   "cell_type": "markdown",
   "metadata": {},
   "source": [
    "# Calculate scores without reclassification"
   ]
  },
  {
   "cell_type": "code",
   "execution_count": 5,
   "metadata": {},
   "outputs": [],
   "source": [
    "# Calculate weighted precision, recall, and F1\n",
    "precision, recall = calculate_hierarchical_precision_recall(Y, Yhat, confidences, taxonomies, prob_tree, threshold=0)\n",
    "weighted_f1_score = calculate_weighted_f1_score(precision, recall)"
   ]
  },
  {
   "cell_type": "code",
   "execution_count": 6,
   "metadata": {},
   "outputs": [
    {
     "data": {
      "text/plain": [
       "0.9625112107623318"
      ]
     },
     "execution_count": 6,
     "metadata": {},
     "output_type": "execute_result"
    }
   ],
   "source": [
    "precision"
   ]
  },
  {
   "cell_type": "code",
   "execution_count": 7,
   "metadata": {},
   "outputs": [
    {
     "data": {
      "text/plain": [
       "0.8988274706867672"
      ]
     },
     "execution_count": 7,
     "metadata": {},
     "output_type": "execute_result"
    }
   ],
   "source": [
    "recall"
   ]
  },
  {
   "cell_type": "code",
   "execution_count": 8,
   "metadata": {},
   "outputs": [
    {
     "data": {
      "text/plain": [
       "0.9295799047206583"
      ]
     },
     "execution_count": 8,
     "metadata": {},
     "output_type": "execute_result"
    }
   ],
   "source": [
    "weighted_f1_score"
   ]
  },
  {
   "cell_type": "markdown",
   "metadata": {},
   "source": [
    "# Update Predictions with uniform probability tree"
   ]
  },
  {
   "cell_type": "code",
   "execution_count": 27,
   "metadata": {},
   "outputs": [],
   "source": [
    "# Calculate weighted precision, recall, and F1\n",
    "precision, recall = calculate_hierarchical_precision_recall(Y, Yhat, confidences, taxonomies, prob_tree, threshold=0.30)\n",
    "weighted_f1_score = calculate_weighted_f1_score(precision, recall)"
   ]
  },
  {
   "cell_type": "markdown",
   "metadata": {},
   "source": [
    "# Scores with reclassifiation using uniform tree"
   ]
  },
  {
   "cell_type": "code",
   "execution_count": 28,
   "metadata": {},
   "outputs": [
    {
     "data": {
      "text/plain": [
       "0.9602612955906369"
      ]
     },
     "execution_count": 28,
     "metadata": {},
     "output_type": "execute_result"
    }
   ],
   "source": [
    "precision"
   ]
  },
  {
   "cell_type": "code",
   "execution_count": 29,
   "metadata": {},
   "outputs": [
    {
     "data": {
      "text/plain": [
       "0.8975576662143826"
      ]
     },
     "execution_count": 29,
     "metadata": {},
     "output_type": "execute_result"
    }
   ],
   "source": [
    "recall"
   ]
  },
  {
   "cell_type": "code",
   "execution_count": 30,
   "metadata": {},
   "outputs": [
    {
     "data": {
      "text/plain": [
       "0.927851319365302"
      ]
     },
     "execution_count": 30,
     "metadata": {},
     "output_type": "execute_result"
    }
   ],
   "source": [
    "weighted_f1_score"
   ]
  },
  {
   "cell_type": "markdown",
   "metadata": {},
   "source": [
    "# Predict Using Probability Tree"
   ]
  },
  {
   "cell_type": "code",
   "execution_count": 31,
   "metadata": {},
   "outputs": [
    {
     "data": {
      "text/plain": [
       "{'asterias rubens': 1321,\n",
       " 'asteroidea': 1399,\n",
       " 'fucus vesiculosus': 2324,\n",
       " 'henrica': 1210,\n",
       " 'mytilus edulis': 3098,\n",
       " 'myxine glurinosa': 1376,\n",
       " 'pipe': 1519,\n",
       " 'rock': 1081,\n",
       " 'saccharina latissima': 1292,\n",
       " 'tree': 2113,\n",
       " 'ulva intestinalis': 1202,\n",
       " 'urospora': 3314,\n",
       " 'zostera marina': 4837}"
      ]
     },
     "execution_count": 31,
     "metadata": {},
     "output_type": "execute_result"
    }
   ],
   "source": [
    "label_folder_path = '/mnt/RAID/datasets/The Fjord Dataset/fjord/labels/train/'\n",
    "frames = os.listdir(label_folder_path)\n",
    "label_files_full_path = [label_folder_path + f for f in frames]\n",
    "\n",
    "class_indexes = []\n",
    "\n",
    "for label_file in label_files_full_path:\n",
    "    with open(label_file, 'r') as file:\n",
    "        lines = file.readlines()\n",
    "        for line in lines:\n",
    "            if line.strip():\n",
    "                class_index = int(line.split()[0])\n",
    "                class_indexes.append(class_index)\n",
    "\n",
    "class_index_counts = {}\n",
    "for class_index in class_indexes:\n",
    "    if class_index in class_index_counts:\n",
    "        class_index_counts[class_index] += 1\n",
    "    else:\n",
    "        class_index_counts[class_index] = 1\n",
    "\n",
    "sorted_class_index_counts = dict(sorted(class_index_counts.items()))\n",
    "sorted_class_index_counts\n",
    "renamed_dict = {species_names[key]: value for key, value in sorted_class_index_counts.items()}\n",
    "renamed_dict"
   ]
  },
  {
   "cell_type": "code",
   "execution_count": 32,
   "metadata": {},
   "outputs": [],
   "source": [
    "ontology_path = 'data/ontology.json'  # Update this path as necessary\n",
    "new_prob_tree = ProbabilityTree(ontology_path)"
   ]
  },
  {
   "cell_type": "code",
   "execution_count": 33,
   "metadata": {},
   "outputs": [
    {
     "name": "stdout",
     "output_type": "stream",
     "text": [
      "object (Rank: root, Probability: 1.0000000000000002)\n",
      "├── marine life (Rank: binary, Probability: 0.7692307692307694)\n",
      "│   ├── Asteroidea (Rank: class, Probability: 0.23076923076923078)\n",
      "│   │   ├── asterias (Rank: genus, Probability: 0.1304330214282821)\n",
      "│   │   │   ├── asterias rubens (Rank: species, Probability: 0.053509944505205166)\n",
      "│   │   │   └── asteroidea (Rank: species, Probability: 0.0)\n",
      "│   │   │       └── asterias (Rank: species, Probability: 0.0)\n",
      "│   │   └── Henrica (Rank: genus, Probability: 0.0490136509093855)\n",
      "│   │       └── henrica (Rank: species, Probability: 0.0490136509093855)\n",
      "│   ├── phaeophyceae (Rank: class, Probability: 0.15384615384615385)\n",
      "│   │   ├── fucus (Rank: genus, Probability: 0.09413861546562968)\n",
      "│   │   │   └── fucus vesiculosus (Rank: species, Probability: 0.09413861546562968)\n",
      "│   │   └── saccharina (Rank: genus, Probability: 0.052335237169360393)\n",
      "│   │       └── saccharina latissima (Rank: species, Probability: 0.052335237169360393)\n",
      "│   ├── bivalia (Rank: class, Probability: 0.07692307692307693)\n",
      "│   │   └── mya (Rank: genus, Probability: 0.12549114918783166)\n",
      "│   │       └── mytilus edulis (Rank: species, Probability: 0.12549114918783166)\n",
      "│   ├── myxini (Rank: class, Probability: 0.07692307692307693)\n",
      "│   │   └── myxine (Rank: genus, Probability: 0.05573783772835905)\n",
      "│   │       └── myxine glurinosa (Rank: species, Probability: 0.05573783772835905)\n",
      "│   ├── chlorophyta (Rank: class, Probability: 0.15384615384615385)\n",
      "│   │   ├── ulva (Rank: genus, Probability: 0.048689593713290395)\n",
      "│   │   │   └── ulva intestinalis (Rank: species, Probability: 0.048689593713290395)\n",
      "│   │   └── Urospora (Rank: genus, Probability: 0.13424069348239964)\n",
      "│   │       └── urospora (Rank: species, Probability: 0.13424069348239964)\n",
      "│   └── monocots (Rank: class, Probability: 0.07692307692307693)\n",
      "│       └── zostera (Rank: genus, Probability: 0.19593308218900635)\n",
      "│           └── zostera marina (Rank: species, Probability: 0.19593308218900635)\n",
      "└── inanimate (Rank: binary, Probability: 0.23076923076923078)\n",
      "    ├── artificial (Rank: class, Probability: 0.07692307692307693)\n",
      "    │   └── cylindrical (Rank: genus, Probability: 0.06153036010855916)\n",
      "    │       └── pipe (Rank: species, Probability: 0.06153036010855916)\n",
      "    └── natural (Rank: class, Probability: 0.15384615384615385)\n",
      "        ├── solid (Rank: genus, Probability: 0.04378822862235184)\n",
      "        │   └── rock (Rank: species, Probability: 0.04378822862235184)\n",
      "        └── arboral (Rank: genus, Probability: 0.08559160691862114)\n",
      "            └── tree (Rank: species, Probability: 0.08559160691862114)\n"
     ]
    }
   ],
   "source": [
    "new_prob_tree.update_probabilities_with_instance_counts(renamed_dict)\n",
    "new_prob_tree.print_tree()"
   ]
  },
  {
   "cell_type": "code",
   "execution_count": 38,
   "metadata": {},
   "outputs": [],
   "source": [
    "# Calculate weighted precision, recall, and F1\n",
    "precision, recall = calculate_hierarchical_precision_recall(Y, Yhat, confidences, taxonomies, new_prob_tree, threshold=0.30)\n",
    "weighted_f1_score = calculate_weighted_f1_score(precision, recall)"
   ]
  },
  {
   "cell_type": "code",
   "execution_count": 39,
   "metadata": {},
   "outputs": [
    {
     "data": {
      "text/plain": [
       "0.9602612955906369"
      ]
     },
     "execution_count": 39,
     "metadata": {},
     "output_type": "execute_result"
    }
   ],
   "source": [
    "precision"
   ]
  },
  {
   "cell_type": "code",
   "execution_count": 40,
   "metadata": {},
   "outputs": [
    {
     "data": {
      "text/plain": [
       "0.8975576662143826"
      ]
     },
     "execution_count": 40,
     "metadata": {},
     "output_type": "execute_result"
    }
   ],
   "source": [
    "recall"
   ]
  },
  {
   "cell_type": "code",
   "execution_count": 41,
   "metadata": {},
   "outputs": [
    {
     "data": {
      "text/plain": [
       "0.927851319365302"
      ]
     },
     "execution_count": 41,
     "metadata": {},
     "output_type": "execute_result"
    }
   ],
   "source": [
    "weighted_f1_score"
   ]
  }
 ],
 "metadata": {
  "kernelspec": {
   "display_name": "fjordvision",
   "language": "python",
   "name": "python3"
  },
  "language_info": {
   "codemirror_mode": {
    "name": "ipython",
    "version": 3
   },
   "file_extension": ".py",
   "mimetype": "text/x-python",
   "name": "python",
   "nbconvert_exporter": "python",
   "pygments_lexer": "ipython3",
   "version": "3.10.12"
  }
 },
 "nbformat": 4,
 "nbformat_minor": 2
}
